{
 "cells": [
  {
   "cell_type": "markdown",
   "id": "0c188a10-78e4-45b2-bdac-e77a15c5813e",
   "metadata": {},
   "source": [
    "# Data Analysis Project using Python "
   ]
  },
  {
   "cell_type": "markdown",
   "id": "c90273fc-446c-4ea5-a3b7-46e908decd72",
   "metadata": {},
   "source": [
    "## a. Data Loading"
   ]
  },
  {
   "cell_type": "markdown",
   "id": "ef6982e7-3727-43e3-a88e-a74955b35047",
   "metadata": {},
   "source": [
    "- Loading the dataset using pandas"
   ]
  },
  {
   "cell_type": "code",
   "execution_count": 4,
   "id": "0b644191-ebc4-4680-81aa-412f20b17aee",
   "metadata": {},
   "outputs": [],
   "source": [
    "import pandas as pd\n",
    "df=pd.read_csv(\"student-mat.csv\", delimiter=\";\")"
   ]
  },
  {
   "cell_type": "markdown",
   "id": "5865766e-be51-42a8-89e6-6c507939b181",
   "metadata": {},
   "source": [
    "the dataset from the required csv file has been loaded into 'df' for futher analysis."
   ]
  },
  {
   "cell_type": "markdown",
   "id": "a6d9ba18-d037-4954-8278-fb22eb68851f",
   "metadata": {},
   "source": [
    "- Displaying the first few rows using head() \n"
   ]
  },
  {
   "cell_type": "code",
   "execution_count": 7,
   "id": "df7fc630-fc0a-4190-b290-086c53d5aea8",
   "metadata": {},
   "outputs": [
    {
     "data": {
      "text/html": [
       "<div>\n",
       "<style scoped>\n",
       "    .dataframe tbody tr th:only-of-type {\n",
       "        vertical-align: middle;\n",
       "    }\n",
       "\n",
       "    .dataframe tbody tr th {\n",
       "        vertical-align: top;\n",
       "    }\n",
       "\n",
       "    .dataframe thead th {\n",
       "        text-align: right;\n",
       "    }\n",
       "</style>\n",
       "<table border=\"1\" class=\"dataframe\">\n",
       "  <thead>\n",
       "    <tr style=\"text-align: right;\">\n",
       "      <th></th>\n",
       "      <th>school</th>\n",
       "      <th>sex</th>\n",
       "      <th>age</th>\n",
       "      <th>address</th>\n",
       "      <th>famsize</th>\n",
       "      <th>Pstatus</th>\n",
       "      <th>Medu</th>\n",
       "      <th>Fedu</th>\n",
       "      <th>Mjob</th>\n",
       "      <th>Fjob</th>\n",
       "      <th>...</th>\n",
       "      <th>famrel</th>\n",
       "      <th>freetime</th>\n",
       "      <th>goout</th>\n",
       "      <th>Dalc</th>\n",
       "      <th>Walc</th>\n",
       "      <th>health</th>\n",
       "      <th>absences</th>\n",
       "      <th>G1</th>\n",
       "      <th>G2</th>\n",
       "      <th>G3</th>\n",
       "    </tr>\n",
       "  </thead>\n",
       "  <tbody>\n",
       "    <tr>\n",
       "      <th>0</th>\n",
       "      <td>GP</td>\n",
       "      <td>F</td>\n",
       "      <td>18</td>\n",
       "      <td>U</td>\n",
       "      <td>GT3</td>\n",
       "      <td>A</td>\n",
       "      <td>4</td>\n",
       "      <td>4</td>\n",
       "      <td>at_home</td>\n",
       "      <td>teacher</td>\n",
       "      <td>...</td>\n",
       "      <td>4</td>\n",
       "      <td>3</td>\n",
       "      <td>4</td>\n",
       "      <td>1</td>\n",
       "      <td>1</td>\n",
       "      <td>3</td>\n",
       "      <td>6</td>\n",
       "      <td>5</td>\n",
       "      <td>6</td>\n",
       "      <td>6</td>\n",
       "    </tr>\n",
       "    <tr>\n",
       "      <th>1</th>\n",
       "      <td>GP</td>\n",
       "      <td>F</td>\n",
       "      <td>17</td>\n",
       "      <td>U</td>\n",
       "      <td>GT3</td>\n",
       "      <td>T</td>\n",
       "      <td>1</td>\n",
       "      <td>1</td>\n",
       "      <td>at_home</td>\n",
       "      <td>other</td>\n",
       "      <td>...</td>\n",
       "      <td>5</td>\n",
       "      <td>3</td>\n",
       "      <td>3</td>\n",
       "      <td>1</td>\n",
       "      <td>1</td>\n",
       "      <td>3</td>\n",
       "      <td>4</td>\n",
       "      <td>5</td>\n",
       "      <td>5</td>\n",
       "      <td>6</td>\n",
       "    </tr>\n",
       "    <tr>\n",
       "      <th>2</th>\n",
       "      <td>GP</td>\n",
       "      <td>F</td>\n",
       "      <td>15</td>\n",
       "      <td>U</td>\n",
       "      <td>LE3</td>\n",
       "      <td>T</td>\n",
       "      <td>1</td>\n",
       "      <td>1</td>\n",
       "      <td>at_home</td>\n",
       "      <td>other</td>\n",
       "      <td>...</td>\n",
       "      <td>4</td>\n",
       "      <td>3</td>\n",
       "      <td>2</td>\n",
       "      <td>2</td>\n",
       "      <td>3</td>\n",
       "      <td>3</td>\n",
       "      <td>10</td>\n",
       "      <td>7</td>\n",
       "      <td>8</td>\n",
       "      <td>10</td>\n",
       "    </tr>\n",
       "    <tr>\n",
       "      <th>3</th>\n",
       "      <td>GP</td>\n",
       "      <td>F</td>\n",
       "      <td>15</td>\n",
       "      <td>U</td>\n",
       "      <td>GT3</td>\n",
       "      <td>T</td>\n",
       "      <td>4</td>\n",
       "      <td>2</td>\n",
       "      <td>health</td>\n",
       "      <td>services</td>\n",
       "      <td>...</td>\n",
       "      <td>3</td>\n",
       "      <td>2</td>\n",
       "      <td>2</td>\n",
       "      <td>1</td>\n",
       "      <td>1</td>\n",
       "      <td>5</td>\n",
       "      <td>2</td>\n",
       "      <td>15</td>\n",
       "      <td>14</td>\n",
       "      <td>15</td>\n",
       "    </tr>\n",
       "    <tr>\n",
       "      <th>4</th>\n",
       "      <td>GP</td>\n",
       "      <td>F</td>\n",
       "      <td>16</td>\n",
       "      <td>U</td>\n",
       "      <td>GT3</td>\n",
       "      <td>T</td>\n",
       "      <td>3</td>\n",
       "      <td>3</td>\n",
       "      <td>other</td>\n",
       "      <td>other</td>\n",
       "      <td>...</td>\n",
       "      <td>4</td>\n",
       "      <td>3</td>\n",
       "      <td>2</td>\n",
       "      <td>1</td>\n",
       "      <td>2</td>\n",
       "      <td>5</td>\n",
       "      <td>4</td>\n",
       "      <td>6</td>\n",
       "      <td>10</td>\n",
       "      <td>10</td>\n",
       "    </tr>\n",
       "  </tbody>\n",
       "</table>\n",
       "<p>5 rows × 33 columns</p>\n",
       "</div>"
      ],
      "text/plain": [
       "  school sex  age address famsize Pstatus  Medu  Fedu     Mjob      Fjob  ...  \\\n",
       "0     GP   F   18       U     GT3       A     4     4  at_home   teacher  ...   \n",
       "1     GP   F   17       U     GT3       T     1     1  at_home     other  ...   \n",
       "2     GP   F   15       U     LE3       T     1     1  at_home     other  ...   \n",
       "3     GP   F   15       U     GT3       T     4     2   health  services  ...   \n",
       "4     GP   F   16       U     GT3       T     3     3    other     other  ...   \n",
       "\n",
       "  famrel freetime  goout  Dalc  Walc health absences  G1  G2  G3  \n",
       "0      4        3      4     1     1      3        6   5   6   6  \n",
       "1      5        3      3     1     1      3        4   5   5   6  \n",
       "2      4        3      2     2     3      3       10   7   8  10  \n",
       "3      3        2      2     1     1      5        2  15  14  15  \n",
       "4      4        3      2     1     2      5        4   6  10  10  \n",
       "\n",
       "[5 rows x 33 columns]"
      ]
     },
     "execution_count": 7,
     "metadata": {},
     "output_type": "execute_result"
    }
   ],
   "source": [
    "df.head()"
   ]
  },
  {
   "cell_type": "markdown",
   "id": "d2f8a305-d377-43ca-b673-4e47c99e44c5",
   "metadata": {},
   "source": [
    "a glimpse of the aquired dataset is shown"
   ]
  },
  {
   "cell_type": "markdown",
   "id": "653c664a-cbde-40d5-afed-a0e035ebc78a",
   "metadata": {},
   "source": [
    "## b. Data Exploration"
   ]
  },
  {
   "cell_type": "markdown",
   "id": "4b7326ca-f2a0-4c9e-b71a-73848e88c088",
   "metadata": {},
   "source": [
    "-  Checking for missing values using isnull().sum()."
   ]
  },
  {
   "cell_type": "code",
   "execution_count": 11,
   "id": "71dc9053-da69-41e2-b592-c518629433a3",
   "metadata": {},
   "outputs": [
    {
     "data": {
      "text/plain": [
       "school        0\n",
       "sex           0\n",
       "age           0\n",
       "address       0\n",
       "famsize       0\n",
       "Pstatus       0\n",
       "Medu          0\n",
       "Fedu          0\n",
       "Mjob          0\n",
       "Fjob          0\n",
       "reason        0\n",
       "guardian      0\n",
       "traveltime    0\n",
       "studytime     0\n",
       "failures      0\n",
       "schoolsup     0\n",
       "famsup        0\n",
       "paid          0\n",
       "activities    0\n",
       "nursery       0\n",
       "higher        0\n",
       "internet      0\n",
       "romantic      0\n",
       "famrel        0\n",
       "freetime      0\n",
       "goout         0\n",
       "Dalc          0\n",
       "Walc          0\n",
       "health        0\n",
       "absences      0\n",
       "G1            0\n",
       "G2            0\n",
       "G3            0\n",
       "dtype: int64"
      ]
     },
     "execution_count": 11,
     "metadata": {},
     "output_type": "execute_result"
    }
   ],
   "source": [
    "df.isnull().sum()"
   ]
  },
  {
   "cell_type": "markdown",
   "id": "db1f483e-b3da-481d-82c3-358c99ce7f6a",
   "metadata": {},
   "source": [
    " The dataset doesnot contain any missing values"
   ]
  },
  {
   "cell_type": "markdown",
   "id": "39ff337c-180b-41a5-8591-643f666ca04a",
   "metadata": {},
   "source": [
    "-  Displaying column data types using dtypes."
   ]
  },
  {
   "cell_type": "code",
   "execution_count": 14,
   "id": "5c95d227-92d7-4d49-8d51-deb142942a71",
   "metadata": {},
   "outputs": [
    {
     "name": "stdout",
     "output_type": "stream",
     "text": [
      "school        object\n",
      "sex           object\n",
      "age            int64\n",
      "address       object\n",
      "famsize       object\n",
      "Pstatus       object\n",
      "Medu           int64\n",
      "Fedu           int64\n",
      "Mjob          object\n",
      "Fjob          object\n",
      "reason        object\n",
      "guardian      object\n",
      "traveltime     int64\n",
      "studytime      int64\n",
      "failures       int64\n",
      "schoolsup     object\n",
      "famsup        object\n",
      "paid          object\n",
      "activities    object\n",
      "nursery       object\n",
      "higher        object\n",
      "internet      object\n",
      "romantic      object\n",
      "famrel         int64\n",
      "freetime       int64\n",
      "goout          int64\n",
      "Dalc           int64\n",
      "Walc           int64\n",
      "health         int64\n",
      "absences       int64\n",
      "G1             int64\n",
      "G2             int64\n",
      "G3             int64\n",
      "dtype: object\n"
     ]
    }
   ],
   "source": [
    "print(df.dtypes)"
   ]
  },
  {
   "cell_type": "markdown",
   "id": "5e6164e2-a265-4153-9bff-15212445809e",
   "metadata": {},
   "source": [
    "All the columns are observed to be of either object or integer datatype"
   ]
  },
  {
   "cell_type": "markdown",
   "id": "7c7c5187-2059-40db-9cb7-37e4104ab3b3",
   "metadata": {},
   "source": [
    "- Understand the dataset's size using .shape.\n"
   ]
  },
  {
   "cell_type": "code",
   "execution_count": 17,
   "id": "2c56326e-35ec-4106-823d-86e08044e7f3",
   "metadata": {},
   "outputs": [
    {
     "name": "stdout",
     "output_type": "stream",
     "text": [
      "(395, 33)\n"
     ]
    }
   ],
   "source": [
    "print(df.shape)"
   ]
  },
  {
   "cell_type": "markdown",
   "id": "fa27fc27-cafc-462d-b5b3-e33775ec4b0f",
   "metadata": {},
   "source": [
    "The output (395, 33) confirms that your DataFrame now has 395 rows and 33 columns"
   ]
  },
  {
   "cell_type": "markdown",
   "id": "abbac96b-2eff-4f00-983c-21eebebd7ddf",
   "metadata": {},
   "source": [
    "## c. Data Cleaning"
   ]
  },
  {
   "cell_type": "markdown",
   "id": "7f2579d7-71b3-4455-8f17-729da36a79ff",
   "metadata": {},
   "source": [
    " Handle missing values (e.g., replace them with the median or remove rows).\n",
    " since the dataset doenot have any missing values we can try droping rows"
   ]
  },
  {
   "cell_type": "code",
   "execution_count": 21,
   "id": "a12c9bd6-08be-4544-8ee6-d5424fd48364",
   "metadata": {},
   "outputs": [],
   "source": [
    "df.dropna(inplace=True)"
   ]
  },
  {
   "cell_type": "markdown",
   "id": "a76918c1-f67c-4f08-8f7a-3de98df34329",
   "metadata": {},
   "source": [
    "- Remove duplicate entries using drop_duplicates()."
   ]
  },
  {
   "cell_type": "code",
   "execution_count": 23,
   "id": "7c60a0fa-fd09-4452-a3bb-19be5ae7b082",
   "metadata": {},
   "outputs": [],
   "source": [
    "df.drop_duplicates(inplace=True)"
   ]
  },
  {
   "cell_type": "markdown",
   "id": "24f86d37-6f3e-474f-b928-d380a4b82b1a",
   "metadata": {},
   "source": [
    "- any duplicates present in the data set are dropped"
   ]
  },
  {
   "cell_type": "markdown",
   "id": "47644fad-cf07-4e79-b952-ead933d784ce",
   "metadata": {},
   "source": [
    "## d. Data Analysis Questions"
   ]
  },
  {
   "cell_type": "markdown",
   "id": "2a044286-3a37-4030-b7b7-84f8c71c81f2",
   "metadata": {},
   "source": [
    "1. What is the average score in math (G3)?"
   ]
  },
  {
   "cell_type": "code",
   "execution_count": 27,
   "id": "81f94b0b-b502-42ca-8189-2f204662743f",
   "metadata": {},
   "outputs": [
    {
     "name": "stdout",
     "output_type": "stream",
     "text": [
      "the average score in math(c3) is  10.415189873417722\n"
     ]
    }
   ],
   "source": [
    "avg_math_score=df[\"G3\"].mean()\n",
    "print(\"the average score in math(c3) is \",avg_math_score)"
   ]
  },
  {
   "cell_type": "markdown",
   "id": "ac663a5a-a788-43b8-93dc-57f6b6e212cd",
   "metadata": {},
   "source": [
    "2. How many students scored above 15 in their final grade (G3)?"
   ]
  },
  {
   "cell_type": "code",
   "execution_count": 29,
   "id": "9482f453-09be-43b0-b504-d5833116d7d1",
   "metadata": {},
   "outputs": [
    {
     "name": "stdout",
     "output_type": "stream",
     "text": [
      "students scored above 15 in their final grade (G3) are  40\n"
     ]
    }
   ],
   "source": [
    "score_above_15=(df[\"G3\"]>15).sum()\n",
    "print(\"students scored above 15 in their final grade (G3) are \",score_above_15)"
   ]
  },
  {
   "cell_type": "markdown",
   "id": "8e992340-db36-46d4-afa4-28ef421cb53c",
   "metadata": {},
   "source": [
    "3. Is there a correlation between study time (study time) and the final grade (G3)?"
   ]
  },
  {
   "cell_type": "markdown",
   "id": "ec89d1cf-4b49-4d61-a721-142c189271d4",
   "metadata": {},
   "source": [
    "To check if there is a correlation between the study time (studytime) and the final grade (G3), one can calculate the Pearson correlation coefficient using pandas.The Pearson correlation coefficient ranges from -1 (perfect negative correlation) to +1 (perfect positive correlation). A value near 0 suggests no linear correlation. "
   ]
  },
  {
   "cell_type": "code",
   "execution_count": 32,
   "id": "05927148-205b-44a1-86f5-041faf534827",
   "metadata": {},
   "outputs": [
    {
     "name": "stdout",
     "output_type": "stream",
     "text": [
      "The correlation between study time (study time) and the final grade (G3) is  0.0978196896531963\n"
     ]
    }
   ],
   "source": [
    "correlation=df[\"studytime\"].corr(df[\"G3\"])\n",
    "print(\"The correlation between study time (study time) and the final grade (G3) is \",correlation)"
   ]
  },
  {
   "cell_type": "markdown",
   "id": "df6569aa-f5de-4002-bc04-0e02d2eb3548",
   "metadata": {},
   "source": [
    "Here the correlation coefficient is 0.098 which is close to 0, which suggests that the study time doesn't have a significant linear relationship with the final grade (G3). "
   ]
  },
  {
   "cell_type": "markdown",
   "id": "e45c2e6c-6d37-4d54-ab88-0921bd5ed382",
   "metadata": {},
   "source": [
    "4. Which gender has a higher average final grade (G3)?"
   ]
  },
  {
   "cell_type": "markdown",
   "id": "6e85aa4d-1fda-4861-b316-aeff9f2bc38b",
   "metadata": {},
   "source": [
    "To determine which gender has a higher average final grade (G3), one can group the data by the sex column and calculate the mean of G3 for each gender."
   ]
  },
  {
   "cell_type": "code",
   "execution_count": 36,
   "id": "3f407161-a650-4861-9f73-60bc3ab15a0e",
   "metadata": {},
   "outputs": [
    {
     "name": "stdout",
     "output_type": "stream",
     "text": [
      "sex\n",
      "F     9.966346\n",
      "M    10.914439\n",
      "Name: G3, dtype: float64\n"
     ]
    }
   ],
   "source": [
    "grouped_gender_mean=df.groupby(\"sex\")[\"G3\"].mean()\n",
    "print(grouped_gender_mean)"
   ]
  },
  {
   "cell_type": "markdown",
   "id": "01680318-74ea-41a5-8d78-ac546229be21",
   "metadata": {},
   "source": [
    "From the output we can say that male gender has higher final grade(G3)"
   ]
  },
  {
   "cell_type": "markdown",
   "id": "c395a92a-2059-427a-a610-fb9b748ec12c",
   "metadata": {},
   "source": [
    "## e. Data Visualization"
   ]
  },
  {
   "cell_type": "markdown",
   "id": "3cb92597-78b6-4442-a492-28ceba67e937",
   "metadata": {},
   "source": [
    "- Plot a histogram of final grades (G3)."
   ]
  },
  {
   "cell_type": "code",
   "execution_count": 60,
   "id": "ff9638e1-f63f-45a1-ac5b-0c475198065b",
   "metadata": {},
   "outputs": [
    {
     "data": {
      "image/png": "[encoded data removed]",
      "text/plain": [
       "<Figure size 640x480 with 1 Axes>"
      ]
     },
     "metadata": {},
     "output_type": "display_data"
    }
   ],
   "source": [
    "import matplotlib.pyplot as plt\n",
    "plt.hist(df[\"G3\"],edgecolor=\"black\",bins=10)\n",
    "plt.xlabel(\"final grades (G3)\")\n",
    "plt.ylabel(\"Frequency\")\n",
    "plt.title(\"Distribution of final grades\")\n",
    "plt.show()"
   ]
  },
  {
   "cell_type": "markdown",
   "id": "a49558d4-4e98-4e6a-aa3d-e8fb46829f9b",
   "metadata": {},
   "source": [
    "This histogram shows the distribution of the final grades. <br>\n",
    "Key Findings:<br>-most students are scoring in the range of 8 to 16<br>\n",
    "             -there is a peak at grade range 10 to 12"
   ]
  },
  {
   "cell_type": "markdown",
   "id": "aa69f9ad-1001-4cc5-8da0-4af271b3ee61",
   "metadata": {},
   "source": [
    "- Create a scatter plot between study time (study time) and final grade (G3)."
   ]
  },
  {
   "cell_type": "code",
   "execution_count": 66,
   "id": "0f5ec108-a381-4f51-aec3-dff94b98fbfe",
   "metadata": {},
   "outputs": [
    {
     "data": {
      "image/png": "[encoded data removed]",
      "text/plain": [
       "<Figure size 640x480 with 1 Axes>"
      ]
     },
     "metadata": {},
     "output_type": "display_data"
    }
   ],
   "source": [
    "plt.scatter(df[\"studytime\"],df[\"G3\"])\n",
    "plt.xlabel(\"Study Time\")\n",
    "plt.ylabel(\"final grade(G3)\")\n",
    "plt.title(\"Scatter Plot: Study Time vs Final Grade\")\n",
    "plt.show()"
   ]
  },
  {
   "cell_type": "markdown",
   "id": "47a0f073-f2de-4616-bc4a-8c59f5911dca",
   "metadata": {},
   "source": [
    "This scatter plot will help visualize the relationship between studytime and G3.<br>A slight positive correlation was observed between study time and final grades, indicating that students who dedicate more time to studying tend to achieve higher grades."
   ]
  },
  {
   "cell_type": "markdown",
   "id": "f376581f-660d-4aa8-9aae-d68e2c6f18c2",
   "metadata": {},
   "source": [
    "- Create a bar chart comparing the average scores of male and female students."
   ]
  },
  {
   "cell_type": "code",
   "execution_count": 78,
   "id": "fde262b3-0381-4c4a-8eae-d908c490b1be",
   "metadata": {},
   "outputs": [
    {
     "data": {
      "image/png": "[encoded data removed]",
      "text/plain": [
       "<Figure size 640x480 with 1 Axes>"
      ]
     },
     "metadata": {},
     "output_type": "display_data"
    }
   ],
   "source": [
    "import seaborn as sns\n",
    "grouped_gender=df.groupby(\"sex\")[\"G3\"].mean().reset_index()\n",
    "sns.barplot(x=\"sex\",y=\"G3\",data=grouped_gender)\n",
    "plt.xlabel(\"Gender\")\n",
    "plt.ylabel(\"Average Final Grade (G3)\")\n",
    "plt.title(\"Average Final Grades by Gender\")\n",
    "plt.show()"
   ]
  },
  {
   "cell_type": "markdown",
   "id": "803ce7a7-41e7-48a7-abe4-63704b43978a",
   "metadata": {},
   "source": [
    "This bar chart will display the average G3 scores for each gender.<br>Male students have a slightly higher average final grade than Female students, suggesting potential differences in academic performance by gender."
   ]
  },
  {
   "cell_type": "code",
   "execution_count": null,
   "id": "a6fc9322-aef4-40a0-9aa1-3f92bec6891e",
   "metadata": {},
   "outputs": [],
   "source": []
  }
 ],
 "metadata": {
  "kernelspec": {
   "display_name": "Python [conda env:base] *",
   "language": "python",
   "name": "conda-base-py"
  },
  "language_info": {
   "codemirror_mode": {
    "name": "ipython",
    "version": 3
   },
   "file_extension": ".py",
   "mimetype": "text/x-python",
   "name": "python",
   "nbconvert_exporter": "python",
   "pygments_lexer": "ipython3",
   "version": "3.12.7"
  }
 },
 "nbformat": 4,
 "nbformat_minor": 5
}
